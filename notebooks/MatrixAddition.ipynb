{
 "cells": [
  {
   "cell_type": "markdown",
   "metadata": {},
   "source": [
    "# License\n",
    "\n",
    "    Jupyter notebook for accessing CUDA\n",
    "    Copyright (C) 2018 Andre.Brodtkorb@ifi.uio.no\n",
    "\n",
    "    This program is free software: you can redistribute it and/or modify\n",
    "    it under the terms of the GNU General Public License as published by\n",
    "    the Free Software Foundation, either version 3 of the License, or\n",
    "    (at your option) any later version.\n",
    "\n",
    "    This program is distributed in the hope that it will be useful,\n",
    "    but WITHOUT ANY WARRANTY; without even the implied warranty of\n",
    "    MERCHANTABILITY or FITNESS FOR A PARTICULAR PURPOSE.  See the\n",
    "    GNU General Public License for more details.\n",
    "\n",
    "    You should have received a copy of the GNU General Public License\n",
    "    along with this program.  If not, see <http://www.gnu.org/licenses/>."
   ]
  },
  {
   "cell_type": "code",
   "execution_count": 38,
   "metadata": {},
   "outputs": [],
   "source": [
    "#Lets have matplotlib \"inline\"\n",
    "%matplotlib inline\n",
    "\n",
    "#Import packages we need\n",
    "import numpy as np\n",
    "import pycuda.compiler as cuda_compiler\n",
    "from pycuda.gpuarray import GPUArray\n",
    "import pycuda.driver as cuda_driver\n",
    "\n",
    "from matplotlib import pyplot as plt"
   ]
  },
  {
   "cell_type": "code",
   "execution_count": 39,
   "metadata": {},
   "outputs": [],
   "source": [
    "#Initialize CUDA - must be first call to CUDA!\n",
    "cuda_driver.init()"
   ]
  },
  {
   "cell_type": "code",
   "execution_count": 40,
   "metadata": {},
   "outputs": [
    {
     "name": "stdout",
     "output_type": "stream",
     "text": [
      "Using 'Tesla K80'\n",
      " => compute capability: (3, 7)\n",
      " => memory: 9127 / 11441 MB available\n"
     ]
    }
   ],
   "source": [
    "#Create CUDA context\n",
    "cuda_device = cuda_driver.Device(0)\n",
    "print(\"Using '{:s}'\".format(cuda_device.name()))\n",
    "print(\" => compute capability: {:s}\".format(str(cuda_device.compute_capability())))\n",
    "context = cuda_device.make_context()\n",
    "free, total = cuda_driver.mem_get_info()\n",
    "print(\" => memory: {:d} / {:d} MB available\".format(int(free/(1024*1024)), int(total/(1024*1024))))"
   ]
  },
  {
   "cell_type": "code",
   "execution_count": 41,
   "metadata": {},
   "outputs": [],
   "source": [
    "cuda_kernel = \"\"\"\n",
    "__global__ void addVectorKernel(float* c, float* a, float* b) {\n",
    "    unsigned int i = blockIdx.x*blockDim.x + threadIdx.x;\n",
    "    c[i] = a[i] + b[i];\n",
    "}\n",
    "__global__ void addMatrixKernel(float* c, float* a, float* b, int cols){\n",
    "unsigned int i = blockIdx.x*blockDim.x + threadIdx.x;\n",
    "unsigned int j = blockIdx.y*blockDim.y + threadIdx.y;\n",
    "\n",
    "        //Pseudocode\n",
    "        //c[j,i] = a[j][i]+b[j][i]\n",
    "        unsigned int k = j*cols + i;\n",
    "\n",
    "c[k] = a[k]+b[k];\n",
    "\n",
    "}\n",
    "\"\"\"\n",
    "module = cuda_compiler.SourceModule(cuda_kernel)\n",
    "kernel = module.get_function(\"addMatrixKernel\");"
   ]
  },
  {
   "cell_type": "code",
   "execution_count": 42,
   "metadata": {},
   "outputs": [
    {
     "data": {
      "image/png": "[encoded data removed]",
      "text/plain": [
       "<matplotlib.figure.Figure at 0x7fd7248c6d68>"
      ]
     },
     "metadata": {
      "needs_background": "light"
     },
     "output_type": "display_data"
    }
   ],
   "source": [
    "#Size of our test\n",
    "test_size = (16,24)\n",
    "\n",
    "#Create test input / output data\n",
    "a = np.random.random(test_size).astype(np.float32)\n",
    "b = np.random.random(test_size).astype(np.float32)\n",
    "c = np.empty_like(a)\n",
    "\n",
    "fig = plt.figure(figsize=(12,8))\n",
    "plt.imshow(a)\n",
    "plt.colorbar()\n",
    "fig.show()"
   ]
  },
  {
   "cell_type": "code",
   "execution_count": 43,
   "metadata": {},
   "outputs": [
    {
     "name": "stdout",
     "output_type": "stream",
     "text": [
      "(16, 24)\n"
     ]
    }
   ],
   "source": [
    "print(a.shape)"
   ]
  },
  {
   "cell_type": "code",
   "execution_count": 44,
   "metadata": {},
   "outputs": [],
   "source": [
    "#Upload data to the device\n",
    "a_g = GPUArray(a.shape, np.float32)\n",
    "b_g = GPUArray(b.shape, np.float32)\n",
    "a_g.set(a)\n",
    "b_g.set(b)"
   ]
  },
  {
   "cell_type": "code",
   "execution_count": 45,
   "metadata": {},
   "outputs": [],
   "source": [
    "#Allocate output data\n",
    "c_g = GPUArray(c.shape, np.float32)"
   ]
  },
  {
   "cell_type": "code",
   "execution_count": 46,
   "metadata": {},
   "outputs": [
    {
     "name": "stdout",
     "output_type": "stream",
     "text": [
      "Domain size is (24, 16)\n",
      "Block size is (8, 8, 1)\n",
      "Grid size is (3, 2, 1)\n"
     ]
    }
   ],
   "source": [
    "#a is [rows,columns] = (y,x) but we need it in (x,y)\n",
    "\n",
    "domain_size = (a.shape[1], a.shape[0]) #domain_size[0] is the number of columns now\n",
    "block_size = (8,8,1)\n",
    "grid_size = (domain_size[0] // block_size[0], domain_size[1] // block_size[1], 1)\n",
    "\n",
    " #'//' è la divisione intera\n",
    " # '/' è la divisione normale\n",
    "\n",
    "print(\"Domain size is \" + str(domain_size))\n",
    "print(\"Block size is \" + str(block_size))\n",
    "print(\"Grid size is \" + str(grid_size))"
   ]
  },
  {
   "cell_type": "code",
   "execution_count": 47,
   "metadata": {},
   "outputs": [
    {
     "data": {
      "text/plain": [
       "array([[1.1241971 , 1.5220989 , 0.5173185 , 1.0726295 , 0.94510293,\n",
       "        1.7306765 , 0.9633421 , 1.5065099 , 1.0836952 , 1.18239   ,\n",
       "        1.2768747 , 0.5191339 , 0.68166196, 1.1879001 , 1.6509006 ,\n",
       "        1.1649107 , 0.7562908 , 1.4929423 , 1.0330817 , 1.4267114 ,\n",
       "        0.4916733 , 1.0370488 , 0.45927167, 0.26383516],\n",
       "       [1.2944652 , 0.4917872 , 1.1115639 , 1.2849076 , 1.1442709 ,\n",
       "        0.89350295, 1.2874509 , 1.1494458 , 0.9890325 , 0.5226524 ,\n",
       "        0.7214418 , 1.6404575 , 1.3330952 , 1.1908661 , 0.9221917 ,\n",
       "        1.2373642 , 1.2533909 , 0.73814714, 0.7003822 , 0.5318042 ,\n",
       "        0.81742394, 0.20262069, 0.83630645, 1.3181387 ],\n",
       "       [1.5759813 , 0.80001074, 0.65371454, 0.5241113 , 1.7264493 ,\n",
       "        0.9335948 , 1.2824757 , 1.715093  , 1.0238986 , 1.0159134 ,\n",
       "        1.6423646 , 0.9354539 , 0.7438171 , 1.1283629 , 1.2316632 ,\n",
       "        1.006345  , 1.0707564 , 1.3171649 , 0.52662873, 0.61979055,\n",
       "        1.2043972 , 1.3754098 , 1.2166221 , 1.051923  ],\n",
       "       [0.79202545, 0.41259938, 1.0848365 , 0.8811059 , 0.70562357,\n",
       "        1.6192234 , 0.93569803, 0.74829423, 1.608929  , 1.2546779 ,\n",
       "        0.85401964, 0.30375955, 1.6548097 , 0.34362388, 1.2790265 ,\n",
       "        1.3255036 , 1.1669813 , 0.68768203, 0.6850924 , 0.95489675,\n",
       "        0.36813596, 1.0467151 , 1.3070619 , 0.89037967],\n",
       "       [0.7429092 , 1.2258142 , 1.2188988 , 1.4738293 , 1.2994443 ,\n",
       "        1.0645437 , 0.41289037, 1.2789443 , 0.79709476, 0.50736076,\n",
       "        0.2634126 , 1.0480804 , 1.6262689 , 0.9808226 , 0.4436148 ,\n",
       "        0.96094805, 0.9160757 , 0.9256577 , 0.9975201 , 1.652913  ,\n",
       "        0.3996479 , 1.0226573 , 1.0429454 , 0.8891424 ],\n",
       "       [0.59693956, 1.114158  , 0.9774239 , 1.3195709 , 0.9665349 ,\n",
       "        1.3516742 , 1.3835456 , 1.266778  , 1.202955  , 0.85979605,\n",
       "        1.0755454 , 1.8056087 , 0.55930567, 0.81188524, 1.031532  ,\n",
       "        1.0753307 , 0.41557074, 0.58405924, 0.8737503 , 0.52785945,\n",
       "        0.5110688 , 0.7610566 , 0.79206693, 0.76924545],\n",
       "       [1.1037912 , 1.1876293 , 0.728992  , 0.8538907 , 1.8617499 ,\n",
       "        0.84971964, 0.98172534, 0.7441019 , 1.4781525 , 1.109618  ,\n",
       "        0.22642307, 0.87320274, 1.1456871 , 1.0077022 , 1.0951422 ,\n",
       "        1.5197845 , 0.6009388 , 0.8402757 , 1.2296351 , 1.1214082 ,\n",
       "        0.21981227, 1.0938884 , 1.4011902 , 0.8926656 ],\n",
       "       [1.5217911 , 1.6467655 , 1.6769025 , 1.179843  , 1.039854  ,\n",
       "        0.4654647 , 0.40636075, 1.2866848 , 0.82684314, 0.8457954 ,\n",
       "        0.7092129 , 0.19818595, 1.5320741 , 1.1616514 , 1.2252355 ,\n",
       "        1.1291422 , 0.88657963, 1.1279362 , 1.8240035 , 0.4451493 ,\n",
       "        1.0735239 , 1.4150001 , 1.3717072 , 1.2706329 ],\n",
       "       [1.3182611 , 0.29607671, 0.5882883 , 0.9802171 , 1.8592267 ,\n",
       "        1.518169  , 1.0497584 , 1.2081583 , 0.6924685 , 0.9522165 ,\n",
       "        0.67917895, 0.3644624 , 0.93267286, 1.0235653 , 1.0120449 ,\n",
       "        0.3929626 , 1.0854759 , 0.96844894, 0.6509974 , 0.9378195 ,\n",
       "        1.5200576 , 1.238342  , 0.7432193 , 0.97253263],\n",
       "       [1.7032702 , 0.6196664 , 0.21284136, 0.79403424, 0.5327387 ,\n",
       "        0.7492219 , 1.378139  , 0.48228696, 0.93397194, 1.258306  ,\n",
       "        1.0300645 , 0.8003124 , 1.0362544 , 0.6156776 , 1.2319186 ,\n",
       "        0.6350932 , 0.62013984, 0.44254526, 1.046016  , 1.2197881 ,\n",
       "        1.3237977 , 0.46358705, 0.89861614, 0.5494121 ],\n",
       "       [0.659225  , 1.0598152 , 1.0364593 , 0.7859199 , 0.75674295,\n",
       "        1.0072484 , 0.91615176, 1.4266706 , 0.40375686, 0.58369875,\n",
       "        0.9395823 , 0.71470815, 1.6448011 , 1.0931183 , 1.1334313 ,\n",
       "        0.9829042 , 0.7125902 , 1.7916412 , 0.49697617, 1.1352315 ,\n",
       "        0.9212179 , 1.2124324 , 0.98438156, 1.3962164 ],\n",
       "       [1.0803026 , 1.0392219 , 0.66811466, 1.4274762 , 1.3649044 ,\n",
       "        0.9704596 , 1.2827898 , 0.6850251 , 0.8311869 , 1.0276468 ,\n",
       "        0.70364016, 1.7070881 , 0.7166891 , 0.9434364 , 1.1280584 ,\n",
       "        1.3935481 , 1.6105314 , 0.54266524, 1.1132715 , 1.2422292 ,\n",
       "        1.0426364 , 0.6902465 , 0.4101212 , 1.7420669 ],\n",
       "       [0.34599996, 1.8883624 , 1.0020025 , 1.0046505 , 1.4122543 ,\n",
       "        1.3555284 , 0.7036332 , 0.9815558 , 0.82929665, 1.3281595 ,\n",
       "        0.92188334, 0.83261865, 0.24122912, 1.0043905 , 0.2751497 ,\n",
       "        0.7409412 , 1.091296  , 0.8696281 , 0.66550726, 0.23928508,\n",
       "        0.35342377, 1.8375938 , 0.92543435, 0.9991138 ],\n",
       "       [0.8505892 , 0.4281303 , 0.11283077, 0.47513586, 1.0407181 ,\n",
       "        1.1089611 , 0.2182595 , 1.1265936 , 1.1696169 , 1.2776799 ,\n",
       "        1.2093623 , 0.60041964, 1.064255  , 0.8154993 , 0.8789073 ,\n",
       "        1.4482757 , 0.7609271 , 0.92434067, 0.4791817 , 1.2207682 ,\n",
       "        0.8565371 , 1.0451595 , 1.1355423 , 0.7324692 ],\n",
       "       [0.23115721, 1.0228513 , 0.8459209 , 1.8118604 , 1.3212445 ,\n",
       "        1.3630399 , 1.3607101 , 1.6173725 , 1.7662246 , 0.64870197,\n",
       "        0.53901005, 1.361933  , 1.1371253 , 1.0965368 , 1.4918184 ,\n",
       "        1.2422314 , 0.82720304, 0.38108453, 1.6202338 , 1.195588  ,\n",
       "        1.0539265 , 0.24167037, 1.3321519 , 0.7415904 ],\n",
       "       [1.0794469 , 0.8134379 , 1.2338932 , 1.445013  , 1.8372428 ,\n",
       "        1.0810986 , 0.64410734, 1.0754654 , 0.7865288 , 1.1818337 ,\n",
       "        1.7555068 , 1.1860509 , 0.880217  , 0.5296844 , 0.54856884,\n",
       "        0.96024764, 0.6254131 , 1.3288262 , 1.0501845 , 0.78597426,\n",
       "        1.7284226 , 0.3767791 , 0.33833855, 0.42378587]], dtype=float32)"
      ]
     },
     "execution_count": 47,
     "metadata": {},
     "output_type": "execute_result"
    }
   ],
   "source": [
    "#Execute program on device\n",
    "kernel(c_g, a_g, b_g, np.int32(domain_size[0]), block=block_size, grid=grid_size)\n",
    "\n",
    "#Copy data from device to host\n",
    "c_g.get(c)"
   ]
  },
  {
   "cell_type": "code",
   "execution_count": 48,
   "metadata": {},
   "outputs": [
    {
     "name": "stdout",
     "output_type": "stream",
     "text": [
      "C   =  [[1.1241971  1.5220989  0.5173185  1.0726295  0.94510293 1.7306765\n",
      "  0.9633421  1.5065099  1.0836952  1.18239    1.2768747  0.5191339\n",
      "  0.68166196 1.1879001  1.6509006  1.1649107  0.7562908  1.4929423\n",
      "  1.0330817  1.4267114  0.4916733  1.0370488  0.45927167 0.26383516]\n",
      " [1.2944652  0.4917872  1.1115639  1.2849076  1.1442709  0.89350295\n",
      "  1.2874509  1.1494458  0.9890325  0.5226524  0.7214418  1.6404575\n",
      "  1.3330952  1.1908661  0.9221917  1.2373642  1.2533909  0.73814714\n",
      "  0.7003822  0.5318042  0.81742394 0.20262069 0.83630645 1.3181387 ]\n",
      " [1.5759813  0.80001074 0.65371454 0.5241113  1.7264493  0.9335948\n",
      "  1.2824757  1.715093   1.0238986  1.0159134  1.6423646  0.9354539\n",
      "  0.7438171  1.1283629  1.2316632  1.006345   1.0707564  1.3171649\n",
      "  0.52662873 0.61979055 1.2043972  1.3754098  1.2166221  1.051923  ]\n",
      " [0.79202545 0.41259938 1.0848365  0.8811059  0.70562357 1.6192234\n",
      "  0.93569803 0.74829423 1.608929   1.2546779  0.85401964 0.30375955\n",
      "  1.6548097  0.34362388 1.2790265  1.3255036  1.1669813  0.68768203\n",
      "  0.6850924  0.95489675 0.36813596 1.0467151  1.3070619  0.89037967]\n",
      " [0.7429092  1.2258142  1.2188988  1.4738293  1.2994443  1.0645437\n",
      "  0.41289037 1.2789443  0.79709476 0.50736076 0.2634126  1.0480804\n",
      "  1.6262689  0.9808226  0.4436148  0.96094805 0.9160757  0.9256577\n",
      "  0.9975201  1.652913   0.3996479  1.0226573  1.0429454  0.8891424 ]\n",
      " [0.59693956 1.114158   0.9774239  1.3195709  0.9665349  1.3516742\n",
      "  1.3835456  1.266778   1.202955   0.85979605 1.0755454  1.8056087\n",
      "  0.55930567 0.81188524 1.031532   1.0753307  0.41557074 0.58405924\n",
      "  0.8737503  0.52785945 0.5110688  0.7610566  0.79206693 0.76924545]\n",
      " [1.1037912  1.1876293  0.728992   0.8538907  1.8617499  0.84971964\n",
      "  0.98172534 0.7441019  1.4781525  1.109618   0.22642307 0.87320274\n",
      "  1.1456871  1.0077022  1.0951422  1.5197845  0.6009388  0.8402757\n",
      "  1.2296351  1.1214082  0.21981227 1.0938884  1.4011902  0.8926656 ]\n",
      " [1.5217911  1.6467655  1.6769025  1.179843   1.039854   0.4654647\n",
      "  0.40636075 1.2866848  0.82684314 0.8457954  0.7092129  0.19818595\n",
      "  1.5320741  1.1616514  1.2252355  1.1291422  0.88657963 1.1279362\n",
      "  1.8240035  0.4451493  1.0735239  1.4150001  1.3717072  1.2706329 ]\n",
      " [1.3182611  0.29607671 0.5882883  0.9802171  1.8592267  1.518169\n",
      "  1.0497584  1.2081583  0.6924685  0.9522165  0.67917895 0.3644624\n",
      "  0.93267286 1.0235653  1.0120449  0.3929626  1.0854759  0.96844894\n",
      "  0.6509974  0.9378195  1.5200576  1.238342   0.7432193  0.97253263]\n",
      " [1.7032702  0.6196664  0.21284136 0.79403424 0.5327387  0.7492219\n",
      "  1.378139   0.48228696 0.93397194 1.258306   1.0300645  0.8003124\n",
      "  1.0362544  0.6156776  1.2319186  0.6350932  0.62013984 0.44254526\n",
      "  1.046016   1.2197881  1.3237977  0.46358705 0.89861614 0.5494121 ]\n",
      " [0.659225   1.0598152  1.0364593  0.7859199  0.75674295 1.0072484\n",
      "  0.91615176 1.4266706  0.40375686 0.58369875 0.9395823  0.71470815\n",
      "  1.6448011  1.0931183  1.1334313  0.9829042  0.7125902  1.7916412\n",
      "  0.49697617 1.1352315  0.9212179  1.2124324  0.98438156 1.3962164 ]\n",
      " [1.0803026  1.0392219  0.66811466 1.4274762  1.3649044  0.9704596\n",
      "  1.2827898  0.6850251  0.8311869  1.0276468  0.70364016 1.7070881\n",
      "  0.7166891  0.9434364  1.1280584  1.3935481  1.6105314  0.54266524\n",
      "  1.1132715  1.2422292  1.0426364  0.6902465  0.4101212  1.7420669 ]\n",
      " [0.34599996 1.8883624  1.0020025  1.0046505  1.4122543  1.3555284\n",
      "  0.7036332  0.9815558  0.82929665 1.3281595  0.92188334 0.83261865\n",
      "  0.24122912 1.0043905  0.2751497  0.7409412  1.091296   0.8696281\n",
      "  0.66550726 0.23928508 0.35342377 1.8375938  0.92543435 0.9991138 ]\n",
      " [0.8505892  0.4281303  0.11283077 0.47513586 1.0407181  1.1089611\n",
      "  0.2182595  1.1265936  1.1696169  1.2776799  1.2093623  0.60041964\n",
      "  1.064255   0.8154993  0.8789073  1.4482757  0.7609271  0.92434067\n",
      "  0.4791817  1.2207682  0.8565371  1.0451595  1.1355423  0.7324692 ]\n",
      " [0.23115721 1.0228513  0.8459209  1.8118604  1.3212445  1.3630399\n",
      "  1.3607101  1.6173725  1.7662246  0.64870197 0.53901005 1.361933\n",
      "  1.1371253  1.0965368  1.4918184  1.2422314  0.82720304 0.38108453\n",
      "  1.6202338  1.195588   1.0539265  0.24167037 1.3321519  0.7415904 ]\n",
      " [1.0794469  0.8134379  1.2338932  1.445013   1.8372428  1.0810986\n",
      "  0.64410734 1.0754654  0.7865288  1.1818337  1.7555068  1.1860509\n",
      "  0.880217   0.5296844  0.54856884 0.96024764 0.6254131  1.3288262\n",
      "  1.0501845  0.78597426 1.7284226  0.3767791  0.33833855 0.42378587]]\n",
      "Ref =  [[1.1241971  1.5220989  0.5173185  1.0726295  0.94510293 1.7306765\n",
      "  0.9633421  1.5065099  1.0836952  1.18239    1.2768747  0.5191339\n",
      "  0.68166196 1.1879001  1.6509006  1.1649107  0.7562908  1.4929423\n",
      "  1.0330817  1.4267114  0.4916733  1.0370488  0.45927167 0.26383516]\n",
      " [1.2944652  0.4917872  1.1115639  1.2849076  1.1442709  0.89350295\n",
      "  1.2874509  1.1494458  0.9890325  0.5226524  0.7214418  1.6404575\n",
      "  1.3330952  1.1908661  0.9221917  1.2373642  1.2533909  0.73814714\n",
      "  0.7003822  0.5318042  0.81742394 0.20262069 0.83630645 1.3181387 ]\n",
      " [1.5759813  0.80001074 0.65371454 0.5241113  1.7264493  0.9335948\n",
      "  1.2824757  1.715093   1.0238986  1.0159134  1.6423646  0.9354539\n",
      "  0.7438171  1.1283629  1.2316632  1.006345   1.0707564  1.3171649\n",
      "  0.52662873 0.61979055 1.2043972  1.3754098  1.2166221  1.051923  ]\n",
      " [0.79202545 0.41259938 1.0848365  0.8811059  0.70562357 1.6192234\n",
      "  0.93569803 0.74829423 1.608929   1.2546779  0.85401964 0.30375955\n",
      "  1.6548097  0.34362388 1.2790265  1.3255036  1.1669813  0.68768203\n",
      "  0.6850924  0.95489675 0.36813596 1.0467151  1.3070619  0.89037967]\n",
      " [0.7429092  1.2258142  1.2188988  1.4738293  1.2994443  1.0645437\n",
      "  0.41289037 1.2789443  0.79709476 0.50736076 0.2634126  1.0480804\n",
      "  1.6262689  0.9808226  0.4436148  0.96094805 0.9160757  0.9256577\n",
      "  0.9975201  1.652913   0.3996479  1.0226573  1.0429454  0.8891424 ]\n",
      " [0.59693956 1.114158   0.9774239  1.3195709  0.9665349  1.3516742\n",
      "  1.3835456  1.266778   1.202955   0.85979605 1.0755454  1.8056087\n",
      "  0.55930567 0.81188524 1.031532   1.0753307  0.41557074 0.58405924\n",
      "  0.8737503  0.52785945 0.5110688  0.7610566  0.79206693 0.76924545]\n",
      " [1.1037912  1.1876293  0.728992   0.8538907  1.8617499  0.84971964\n",
      "  0.98172534 0.7441019  1.4781525  1.109618   0.22642307 0.87320274\n",
      "  1.1456871  1.0077022  1.0951422  1.5197845  0.6009388  0.8402757\n",
      "  1.2296351  1.1214082  0.21981227 1.0938884  1.4011902  0.8926656 ]\n",
      " [1.5217911  1.6467655  1.6769025  1.179843   1.039854   0.4654647\n",
      "  0.40636075 1.2866848  0.82684314 0.8457954  0.7092129  0.19818595\n",
      "  1.5320741  1.1616514  1.2252355  1.1291422  0.88657963 1.1279362\n",
      "  1.8240035  0.4451493  1.0735239  1.4150001  1.3717072  1.2706329 ]\n",
      " [1.3182611  0.29607671 0.5882883  0.9802171  1.8592267  1.518169\n",
      "  1.0497584  1.2081583  0.6924685  0.9522165  0.67917895 0.3644624\n",
      "  0.93267286 1.0235653  1.0120449  0.3929626  1.0854759  0.96844894\n",
      "  0.6509974  0.9378195  1.5200576  1.238342   0.7432193  0.97253263]\n",
      " [1.7032702  0.6196664  0.21284136 0.79403424 0.5327387  0.7492219\n",
      "  1.378139   0.48228696 0.93397194 1.258306   1.0300645  0.8003124\n",
      "  1.0362544  0.6156776  1.2319186  0.6350932  0.62013984 0.44254526\n",
      "  1.046016   1.2197881  1.3237977  0.46358705 0.89861614 0.5494121 ]\n",
      " [0.659225   1.0598152  1.0364593  0.7859199  0.75674295 1.0072484\n",
      "  0.91615176 1.4266706  0.40375686 0.58369875 0.9395823  0.71470815\n",
      "  1.6448011  1.0931183  1.1334313  0.9829042  0.7125902  1.7916412\n",
      "  0.49697617 1.1352315  0.9212179  1.2124324  0.98438156 1.3962164 ]\n",
      " [1.0803026  1.0392219  0.66811466 1.4274762  1.3649044  0.9704596\n",
      "  1.2827898  0.6850251  0.8311869  1.0276468  0.70364016 1.7070881\n",
      "  0.7166891  0.9434364  1.1280584  1.3935481  1.6105314  0.54266524\n",
      "  1.1132715  1.2422292  1.0426364  0.6902465  0.4101212  1.7420669 ]\n",
      " [0.34599996 1.8883624  1.0020025  1.0046505  1.4122543  1.3555284\n",
      "  0.7036332  0.9815558  0.82929665 1.3281595  0.92188334 0.83261865\n",
      "  0.24122912 1.0043905  0.2751497  0.7409412  1.091296   0.8696281\n",
      "  0.66550726 0.23928508 0.35342377 1.8375938  0.92543435 0.9991138 ]\n",
      " [0.8505892  0.4281303  0.11283077 0.47513586 1.0407181  1.1089611\n",
      "  0.2182595  1.1265936  1.1696169  1.2776799  1.2093623  0.60041964\n",
      "  1.064255   0.8154993  0.8789073  1.4482757  0.7609271  0.92434067\n",
      "  0.4791817  1.2207682  0.8565371  1.0451595  1.1355423  0.7324692 ]\n",
      " [0.23115721 1.0228513  0.8459209  1.8118604  1.3212445  1.3630399\n",
      "  1.3607101  1.6173725  1.7662246  0.64870197 0.53901005 1.361933\n",
      "  1.1371253  1.0965368  1.4918184  1.2422314  0.82720304 0.38108453\n",
      "  1.6202338  1.195588   1.0539265  0.24167037 1.3321519  0.7415904 ]\n",
      " [1.0794469  0.8134379  1.2338932  1.445013   1.8372428  1.0810986\n",
      "  0.64410734 1.0754654  0.7865288  1.1818337  1.7555068  1.1860509\n",
      "  0.880217   0.5296844  0.54856884 0.96024764 0.6254131  1.3288262\n",
      "  1.0501845  0.78597426 1.7284226  0.3767791  0.33833855 0.42378587]]\n",
      "Sad =  0.0\n"
     ]
    }
   ],
   "source": [
    "#Compute reference using Numpy\n",
    "c_ref = a + b\n",
    "\n",
    "#Print result\n",
    "print(\"C   = \", c)\n",
    "print(\"Ref = \", c_ref)\n",
    "print(\"Sad = \", np.sum(np.abs(c - c_ref)))"
   ]
  },
  {
   "cell_type": "code",
   "execution_count": 49,
   "metadata": {},
   "outputs": [
    {
     "data": {
      "text/plain": [
       "<matplotlib.image.AxesImage at 0x7fd7233147f0>"
      ]
     },
     "execution_count": 49,
     "metadata": {},
     "output_type": "execute_result"
    },
    {
     "data": {
      "image/png": "[encoded data removed]",
      "text/plain": [
       "<matplotlib.figure.Figure at 0x7fd7233c8908>"
      ]
     },
     "metadata": {
      "needs_background": "light"
     },
     "output_type": "display_data"
    }
   ],
   "source": [
    "fig = plt.figure(figsize = (12,8))\n",
    "plt.subplot(1,2,1)\n",
    "plt.imshow(c)\n",
    "plt.subplot(1,2,2)\n",
    "plt.imshow(c_ref)"
   ]
  },
  {
   "cell_type": "code",
   "execution_count": 50,
   "metadata": {},
   "outputs": [
    {
     "data": {
      "text/plain": [
       "[<matplotlib.lines.Line2D at 0x7fd7232cbe80>,\n",
       " <matplotlib.lines.Line2D at 0x7fd723247400>,\n",
       " <matplotlib.lines.Line2D at 0x7fd7232473c8>,\n",
       " <matplotlib.lines.Line2D at 0x7fd723247550>,\n",
       " <matplotlib.lines.Line2D at 0x7fd7232476a0>,\n",
       " <matplotlib.lines.Line2D at 0x7fd7232477f0>,\n",
       " <matplotlib.lines.Line2D at 0x7fd723247940>,\n",
       " <matplotlib.lines.Line2D at 0x7fd723247a90>,\n",
       " <matplotlib.lines.Line2D at 0x7fd723247be0>,\n",
       " <matplotlib.lines.Line2D at 0x7fd723247d30>,\n",
       " <matplotlib.lines.Line2D at 0x7fd723247e80>,\n",
       " <matplotlib.lines.Line2D at 0x7fd723247fd0>,\n",
       " <matplotlib.lines.Line2D at 0x7fd72324e160>,\n",
       " <matplotlib.lines.Line2D at 0x7fd72324e2b0>,\n",
       " <matplotlib.lines.Line2D at 0x7fd72324e400>,\n",
       " <matplotlib.lines.Line2D at 0x7fd72324e550>,\n",
       " <matplotlib.lines.Line2D at 0x7fd72324e6a0>,\n",
       " <matplotlib.lines.Line2D at 0x7fd72324e7f0>,\n",
       " <matplotlib.lines.Line2D at 0x7fd72324e940>,\n",
       " <matplotlib.lines.Line2D at 0x7fd72324ea90>,\n",
       " <matplotlib.lines.Line2D at 0x7fd72324ebe0>,\n",
       " <matplotlib.lines.Line2D at 0x7fd72324ed30>,\n",
       " <matplotlib.lines.Line2D at 0x7fd72324ee80>,\n",
       " <matplotlib.lines.Line2D at 0x7fd72324efd0>]"
      ]
     },
     "execution_count": 50,
     "metadata": {},
     "output_type": "execute_result"
    },
    {
     "data": {
      "image/png": "[encoded data removed]",
      "text/plain": [
       "<matplotlib.figure.Figure at 0x7fd723335668>"
      ]
     },
     "metadata": {
      "needs_background": "light"
     },
     "output_type": "display_data"
    }
   ],
   "source": [
    "plt.figure()\n",
    "plt.plot(c, '+r')\n",
    "plt.plot(c_ref, 'xb')"
   ]
  },
  {
   "cell_type": "code",
   "execution_count": null,
   "metadata": {},
   "outputs": [],
   "source": []
  },
  {
   "cell_type": "code",
   "execution_count": null,
   "metadata": {},
   "outputs": [],
   "source": []
  }
 ],
 "metadata": {
  "kernelspec": {
   "display_name": "Python 3",
   "language": "python",
   "name": "python3"
  },
  "language_info": {
   "codemirror_mode": {
    "name": "ipython",
    "version": 3
   },
   "file_extension": ".py",
   "mimetype": "text/x-python",
   "name": "python",
   "nbconvert_exporter": "python",
   "pygments_lexer": "ipython3",
   "version": "3.6.6"
  }
 },
 "nbformat": 4,
 "nbformat_minor": 2
}
